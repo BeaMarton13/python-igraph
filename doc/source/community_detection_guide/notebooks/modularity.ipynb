{
 "cells": [
  {
   "cell_type": "markdown",
   "id": "94f8164e-537f-41a1-bfc4-ed15c7b00cf8",
   "metadata": {},
   "source": [
    "# Modularity Formula\n",
    "\n",
    "Modularity is a quantitative metric used to evaluate the strength of a network's division into modules (or communities). It measures how well the network is partitioned by comparing the density of edges within communities to the expected density of such edges in a randomized network that preserves the original degree distribution. The formula for modularity is given below.\n",
    "\n",
    "$$Q = \\frac{1}{2m} \\sum_{i,j} \\left[ A_{ij} - \\frac{k_i k_j}{2m} \\right] \\delta(c_i, c_j)$$\n",
    "\n",
    "Where:\n",
    "* $m$: Total number of edges in the graph (sum of all edge weights for a weighted graph).\n",
    "* $A_{ij}$: Element of the adjacency matrix, representing the weight of the edge between node $i$ and node $j$ (0 if no edge).\n",
    "* $k_i$: Degree of node $i$ (sum of weights of edges connected to node $i$).\n",
    "* $k_j$: Degree of node $j$.\n",
    "* $\\delta(c_i, c_j)$: Kronecker delta function, which is 1 if node $i$ and node $j$ belong to the same community ($c_i = c_j$), and 0 otherwise.\n",
    "\n",
    "While [testing the significance of communities](test_significance_of_community.ipynb), we already saw that a high modularity score does not necessarily mean a better community partitioning, as was evident in the Grid Graph mentioned earlier.\n"
   ]
  }
 ],
 "metadata": {
  "kernelspec": {
   "display_name": "Python 3 (ipykernel)",
   "language": "python",
   "name": "python3"
  },
  "language_info": {
   "codemirror_mode": {
    "name": "ipython",
    "version": 3
   },
   "file_extension": ".py",
   "mimetype": "text/x-python",
   "name": "python",
   "nbconvert_exporter": "python",
   "pygments_lexer": "ipython3",
   "version": "3.13.5"
  },
  "widgets": {
   "application/vnd.jupyter.widget-state+json": {
    "state": {},
    "version_major": 2,
    "version_minor": 0
   }
  }
 },
 "nbformat": 4,
 "nbformat_minor": 5
}
