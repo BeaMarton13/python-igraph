{
 "cells": [
  {
   "cell_type": "markdown",
   "id": "8b0af657-026c-4d8e-a7c5-3a778b84b7a0",
   "metadata": {},
   "source": [
    "# Membership vector\n",
    "\n",
    "### What is a __membership vector__?\n",
    "A membership vector is a list or array that assigns a cluster or group identifier to each data point or object.\n",
    "\n",
    "* __Structure:__ It's a one-dimensional sequence where the length is equal to the number of data points.\n",
    "\n",
    "* __Indexing:__ Each index in the vector corresponds to a specific data point. For example, the value at index i is the cluster ID for the i-th data point.\n",
    "\n",
    "* __Values:__ The values in the vector are the cluster IDs. These are typically non-negative integers (e.g., 0, 1, 2, 3, ...).\n",
    "\n",
    "### Example in `igraph`\n",
    "\n",
    "In the context of the `igraph` library and community detection, the data points are the vertices of a graph. A membership vector tells you which community (or cluster) each vertex belongs to.\n",
    "\n",
    "Let's say you have a graph with 5 vertices, and you run a community detection algorithm. The algorithm might find two communities. The resulting membership vector could look like this:\n",
    "\n",
    "`[0, 1, 0, 0, 1]`\n",
    "\n",
    "This vector tells you:\n",
    "* Vertex 0 is in community 0.\n",
    "* Vertex 1 is in community 1.\n",
    "* Vertex 2 is in community 0.\n",
    "* Vertex 3 is in community 0.\n",
    "* Vertex 4 is in community 1.\n",
    "\n",
    "### Why it's useful\n",
    "\n",
    "The membership vector is the most direct and compact representation of a clustering. It serves as the basis for almost all subsequent analyses and visualizations:\n",
    "\n",
    "* __Visualization:__ It's used to color vertices in a plot. Vertices with the same membership value are assigned the same color, making the clusters visually distinct.\n",
    "\n",
    "* __Analysis:__ You can use the vector to easily count the number of vertices in each cluster, find the largest or smallest cluster, or calculate properties of each cluster (e.g., average degree, density).\n",
    "\n",
    "* __Comparison:__ If you have two different clusterings, you can compare their membership vectors using metrics like the Normalized Mutual Information (NMI) to see how similar the two results are.\n",
    "\n",
    "* __Data Extraction:__ You can easily get a list of all vertices belonging to a specific cluster by filtering the original vertex list using the membership vector.\n",
    "\n",
    "In `igraph`, the `VertexClustering` object encapsulates this __membership vector__, along with other useful properties and methods. The communities.membership property gives you direct access to this vector, which is often the first thing you'll need to work with after performing a community detection analysis."
   ]
  }
 ],
 "metadata": {
  "kernelspec": {
   "display_name": "Python 3 (ipykernel)",
   "language": "python",
   "name": "python3"
  },
  "language_info": {
   "codemirror_mode": {
    "name": "ipython",
    "version": 3
   },
   "file_extension": ".py",
   "mimetype": "text/x-python",
   "name": "python",
   "nbconvert_exporter": "python",
   "pygments_lexer": "ipython3",
   "version": "3.13.5"
  },
  "widgets": {
   "application/vnd.jupyter.widget-state+json": {
    "state": {},
    "version_major": 2,
    "version_minor": 0
   }
  }
 },
 "nbformat": 4,
 "nbformat_minor": 5
}
