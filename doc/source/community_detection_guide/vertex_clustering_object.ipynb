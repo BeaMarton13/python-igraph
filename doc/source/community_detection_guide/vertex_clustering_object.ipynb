{
 "cells": [
  {
   "cell_type": "markdown",
   "id": "19a3658d-70df-472f-98bb-70e1b44b5c28",
   "metadata": {},
   "source": [
    "# Vertex Clustering object's properties and methods"
   ]
  },
  {
   "cell_type": "code",
   "execution_count": 1,
   "id": "55444dc6-85b2-4d61-bbad-d2f858ae5911",
   "metadata": {},
   "outputs": [],
   "source": [
    "import igraph as ig"
   ]
  },
  {
   "cell_type": "markdown",
   "id": "b83622fd-0882-48f6-b084-9c01f97e1bf0",
   "metadata": {},
   "source": [
    "Most `igraph` clustering methods return a `VertexClustering` object:"
   ]
  },
  {
   "cell_type": "code",
   "execution_count": 2,
   "id": "a2284f24-47dc-4b98-a4a8-534ff63986a4",
   "metadata": {},
   "outputs": [
    {
     "name": "stdout",
     "output_type": "stream",
     "text": [
      "<class 'igraph.clustering.VertexClustering'>\n"
     ]
    }
   ],
   "source": [
    "g = ig.Graph.Famous(\"Zachary\")\n",
    "communities_lpa = g.community_label_propagation()\n",
    "print(type(communities_lpa))"
   ]
  },
  {
   "cell_type": "markdown",
   "id": "897f6fa6-441d-479b-9742-17f3db5727ec",
   "metadata": {},
   "source": [
    "and even if they don't, you can always access this with the `as_clustering()` method:"
   ]
  },
  {
   "cell_type": "code",
   "execution_count": 3,
   "id": "aa1ddf36-85fd-45f5-8f53-a8ccbb35c159",
   "metadata": {},
   "outputs": [
    {
     "name": "stdout",
     "output_type": "stream",
     "text": [
      "<class 'igraph.clustering.VertexDendrogram'>\n",
      "<class 'igraph.clustering.VertexClustering'>\n"
     ]
    }
   ],
   "source": [
    "communities = g.community_fastgreedy()\n",
    "print(type(communities))\n",
    "communities = communities.as_clustering()\n",
    "print(type(communities))"
   ]
  },
  {
   "cell_type": "markdown",
   "id": "85df3de8-b8d5-4283-8738-8dee6a0b1853",
   "metadata": {},
   "source": [
    "### Properties (Attributes)\n",
    "\n",
    "* `graph`: This is a direct reference back to the original `igraph.Graph` object that the clustering was performed on. This is crucial because it allows you to get back to the graph's structure and attributes without having to store them separately."
   ]
  },
  {
   "cell_type": "code",
   "execution_count": 4,
   "id": "e3898d8a-5a05-4120-9c05-b26e3e81d3c6",
   "metadata": {},
   "outputs": [
    {
     "name": "stdout",
     "output_type": "stream",
     "text": [
      "The clustering was performed on a graph with 34\n"
     ]
    }
   ],
   "source": [
    "original_graph = communities.graph\n",
    "print(f\"The clustering was performed on a graph with {original_graph.vcount()}\")"
   ]
  },
  {
   "cell_type": "markdown",
   "id": "ce73bb19-cfe0-4274-ac11-2564bc289b6a",
   "metadata": {},
   "source": [
    "* `modularity`: This property holds the modularity score of the clustering. Many algorithms (like fastgreedy) are designed to maximize this value, so it's a key metric for evaluating the quality of the result. It's stored as part of the object for easy access"
   ]
  },
  {
   "cell_type": "code",
   "execution_count": 5,
   "id": "c3802a59-9677-42ac-83ee-578acc0da7a1",
   "metadata": {},
   "outputs": [
    {
     "name": "stdout",
     "output_type": "stream",
     "text": [
      "Modularity: 0.38067061143984227\n"
     ]
    }
   ],
   "source": [
    "print(f\"Modularity: {communities.modularity}\")"
   ]
  },
  {
   "cell_type": "markdown",
   "id": "08cef6f7-bedf-432e-895d-21acb4b46eb6",
   "metadata": {},
   "source": [
    "* `membership`: This is the membership vector, a list of cluster IDs for each vertex.\n",
    "<div style=\"background-color: #e6ffe6; padding: 20px; border-radius: 5px;\">\n",
    "    \n",
    "**NOTE:** You can learn more about **memberhip vectors** [here](./membership_vector.ipynb).\n",
    "\n",
    "</div>"
   ]
  },
  {
   "cell_type": "code",
   "execution_count": 6,
   "id": "bed66a4b-75e6-49c9-bc5d-7f26055c3519",
   "metadata": {},
   "outputs": [
    {
     "name": "stdout",
     "output_type": "stream",
     "text": [
      "[0, 1, 1, 1, 0, 0, 0, 1, 2, 1, 0, 0, 1, 1, 2, 2, 0, 1, 2, 0, 2, 1, 2, 2, 2, 2, 2, 2, 2, 2, 2, 2, 2, 2]\n"
     ]
    }
   ],
   "source": [
    "print(communities.membership)"
   ]
  },
  {
   "cell_type": "markdown",
   "id": "4648d338-b482-49a3-9277-46e8bc24d08a",
   "metadata": {},
   "source": [
    "### Methods (Functions)\n",
    "* `__len__`: This allows you to use `len(communities)` to get the number of clusters, which is a very common and intuitive operation."
   ]
  },
  {
   "cell_type": "code",
   "execution_count": 7,
   "id": "6748378e-4ec3-4430-884a-f249c6e6cc51",
   "metadata": {},
   "outputs": [
    {
     "name": "stdout",
     "output_type": "stream",
     "text": [
      "The graph was partitioned into 3 clusters.\n"
     ]
    }
   ],
   "source": [
    "num_clusters = len(communities)\n",
    "print(f\"The graph was partitioned into {num_clusters} clusters.\")"
   ]
  },
  {
   "cell_type": "markdown",
   "id": "78b00129-8ee6-4596-9122-b0940c6e2509",
   "metadata": {},
   "source": [
    "* `__iter__`: The object is iterable, so you can loop through the clusters directly. This yields a list of vertex IDs for each cluster."
   ]
  },
  {
   "cell_type": "code",
   "execution_count": 8,
   "id": "9177018b-a1ba-4696-a25e-97b6191aef56",
   "metadata": {},
   "outputs": [
    {
     "name": "stdout",
     "output_type": "stream",
     "text": [
      "Cluster 0 has 8 vertices.\n",
      "Cluster 1 has 9 vertices.\n",
      "Cluster 2 has 17 vertices.\n"
     ]
    }
   ],
   "source": [
    "for i, cluster_members in enumerate(communities):\n",
    "    print(f\"Cluster {i} has {len(cluster_members)} vertices.\")"
   ]
  },
  {
   "cell_type": "markdown",
   "id": "d1555e7a-2161-4ddf-bcdc-ddb0ab9b3c57",
   "metadata": {},
   "source": [
    "* `__getitem__`: This allows you to access a specific cluster by its index using square brackets, like a list."
   ]
  },
  {
   "cell_type": "code",
   "execution_count": 9,
   "id": "8a001885-fd81-4178-a96c-2bd33a0f07c1",
   "metadata": {},
   "outputs": [
    {
     "name": "stdout",
     "output_type": "stream",
     "text": [
      "The first cluster contains vertices with IDs: [0, 4, 5, 6, 10, 11, 16, 19]\n"
     ]
    }
   ],
   "source": [
    "first_cluster = communities[0]\n",
    "print(f\"The first cluster contains vertices with IDs: {first_cluster}\")"
   ]
  },
  {
   "cell_type": "markdown",
   "id": "dfde72dc-9056-4327-9643-1b798956080c",
   "metadata": {},
   "source": [
    "* `size()` and `sizes()`: These methods provide a convenient way to get the size of a specific cluster or the sizes of all clusters at once."
   ]
  },
  {
   "cell_type": "code",
   "execution_count": 10,
   "id": "b021d9b2-5dce-46ab-9d29-8a2c725d0ac5",
   "metadata": {},
   "outputs": [
    {
     "name": "stdout",
     "output_type": "stream",
     "text": [
      "Size of cluster 0: 8\n",
      "Sizes of all clusters: [8, 9, 17]\n"
     ]
    }
   ],
   "source": [
    "print(f\"Size of cluster 0: {communities.size(0)}\")\n",
    "all_sizes = communities.sizes()\n",
    "print(f\"Sizes of all clusters: {all_sizes}\")"
   ]
  },
  {
   "cell_type": "markdown",
   "id": "b5d1c7bd-8cdb-48ab-89b6-a14851e41081",
   "metadata": {},
   "source": [
    "* `subgraph()` and `subgraphs()`: These are extremely useful. `subgraph(i)` returns a new `igraph.Graph` object that contains only the vertices and edges belonging to cluster `i`. `subgraphs()` returns a list of these subgraphs for every cluster. This is perfect for analyzing a single community in isolation."
   ]
  },
  {
   "cell_type": "code",
   "execution_count": 11,
   "id": "260a3ec0-6f16-4618-93f2-df86e5ccf807",
   "metadata": {},
   "outputs": [
    {
     "name": "stdout",
     "output_type": "stream",
     "text": [
      "Subgraph of cluster 0 has 8 vertices.\n"
     ]
    }
   ],
   "source": [
    "first_subgraph = communities.subgraph(0)\n",
    "print(f\"Subgraph of cluster 0 has {first_subgraph.vcount()} vertices.\")"
   ]
  },
  {
   "cell_type": "markdown",
   "id": "bd00f821-28f5-4e48-b64c-77f3f83a1d16",
   "metadata": {},
   "source": [
    "* `compare_to()`: This method is for comparing two different `VertexClustering` objects using various metrics like the Adjusted Rand Index, normalized mutual information (NMI), and more. It's essential for evaluating and comparing different community detection algorithms."
   ]
  },
  {
   "cell_type": "code",
   "execution_count": 12,
   "id": "6575fed8-484a-4e27-a6ba-1fe7dc242d7b",
   "metadata": {},
   "outputs": [
    {
     "name": "stdout",
     "output_type": "stream",
     "text": [
      "Normalized Mutual Information (NMI): 0.35966240139318034\n"
     ]
    }
   ],
   "source": [
    "comparison = communities.compare_to(communities_lpa, method=\"nmi\")\n",
    "print(f\"Normalized Mutual Information (NMI): {comparison}\")"
   ]
  },
  {
   "cell_type": "markdown",
   "id": "aec362e1-773e-47f9-a9d0-c72a0e0037c0",
   "metadata": {},
   "source": [
    "* `cluster_graph()`: This method generates a new graph where each vertex represents an entire cluster. The edges in this new \"meta-graph\" represent the connections between the original clusters. This is a powerful tool for understanding the high-level structure of the network."
   ]
  },
  {
   "cell_type": "code",
   "execution_count": 13,
   "id": "73259794-b2ca-46cd-b577-c0a9caa6ce39",
   "metadata": {},
   "outputs": [
    {
     "name": "stdout",
     "output_type": "stream",
     "text": [
      "3\n"
     ]
    }
   ],
   "source": [
    "meta_graph = communities.cluster_graph()\n",
    "print(meta_graph.vcount())"
   ]
  }
 ],
 "metadata": {
  "kernelspec": {
   "display_name": "Python 3 (ipykernel)",
   "language": "python",
   "name": "python3"
  },
  "language_info": {
   "codemirror_mode": {
    "name": "ipython",
    "version": 3
   },
   "file_extension": ".py",
   "mimetype": "text/x-python",
   "name": "python",
   "nbconvert_exporter": "python",
   "pygments_lexer": "ipython3",
   "version": "3.13.5"
  }
 },
 "nbformat": 4,
 "nbformat_minor": 5
}
